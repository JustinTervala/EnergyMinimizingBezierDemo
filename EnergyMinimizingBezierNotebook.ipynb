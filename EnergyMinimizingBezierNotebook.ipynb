{
 "cells": [
  {
   "cell_type": "markdown",
   "metadata": {
    "deletable": true,
    "editable": true
   },
   "source": [
    "<h1><center>Energy-minimizing Bèzier Curves</center></h1>\n",
    "<h6><center>Justin Tervala</center></h6>\n",
    "\n",
    "This notebook provides various functions used to construct and investigate energy-minimizing Bèzier curves.\n",
    "\n",
    "First, we need to import NumPy and the binomial coefficient equation from SciPy"
   ]
  },
  {
   "cell_type": "code",
   "execution_count": null,
   "metadata": {
    "collapsed": true,
    "deletable": true,
    "editable": true
   },
   "outputs": [],
   "source": [
    "import numpy as np\n",
    "from scipy.special import binom"
   ]
  },
  {
   "cell_type": "markdown",
   "metadata": {
    "deletable": true,
    "editable": true
   },
   "source": [
    "<h2><center>Computing the Matrix</center></h2>\n",
    "We need a function to compute\n",
    "\n",
    "\\begin{equation*}\n",
    "\\sum_{j \\in D}\\left(\\sum_{\\substack{\n",
    "k=j-m \\\\\n",
    "0\\leq k\\leq n-m\n",
    "}}^{j}\\delta_{m}^{|j-k|}N_{i,k}^{n,m}\\right)\\mathbf{P}_{j}\n",
    "\\end{equation*}\n",
    "\n",
    "First, the function to calculate \n",
    "\n",
    "\n",
    "\\begin{equation*}\n",
    "N_{i,j}^{n,m} = {n-m \\choose j}\\sum_{\\substack{\n",
    "\\mathscr{l}=0 \\\\\n",
    "i-\\mathscr{l}\\geq 0 \n",
    "}}^{m}(-1)^{m-\\mathscr{l}}{m \\choose \\mathscr{l}}\\frac{{ n-m \\choose i-\\mathscr{l}}}{{2n-2m \\choose i+j-\\mathscr{l}}}\n",
    "\\end{equation*}\n",
    "\n",
    "In the function below, we changed the variable $\\mathscr{l}$ to $k$ because `l` looks too much like `1`. We also asserted that \n",
    "\n",
    "\\begin{equation*}\n",
    "0 \\leq i-k \\leq n-m\n",
    "\\end{equation*}\n",
    "\n",
    "so that the demoninator is never 0 and the binomial coefficients are defined."
   ]
  },
  {
   "cell_type": "code",
   "execution_count": null,
   "metadata": {
    "collapsed": false,
    "deletable": true,
    "editable": true
   },
   "outputs": [],
   "source": [
    "def calc_n(i, j, n, m):\n",
    "    sum_ = 0\n",
    "    for k in range(m + 1):\n",
    "        if 0 <= i - k <= n-m:\n",
    "            sum_ += ((-1) ** (m-k) *\n",
    "                     binom(m, k) *\n",
    "                     binom(n-m, i-k) /\n",
    "                     binom(2 * (n-m), i+j-k))\n",
    "    return binom(n-m, j) * sum_"
   ]
  },
  {
   "cell_type": "code",
   "execution_count": null,
   "metadata": {
    "collapsed": false,
    "deletable": true,
    "editable": true,
    "scrolled": true
   },
   "outputs": [],
   "source": [
    "n = 4\n",
    "m = 1\n",
    "print('-'*18)\n",
    "for i in range(n):\n",
    "    for j in range(n):\n",
    "        print('N({0},{1},{2},{3}) = {4}'.format(i, j, n, m, round(calc_n(i, j, n, m), 2)))\n",
    "    print('-'*18)"
   ]
  },
  {
   "cell_type": "markdown",
   "metadata": {
    "deletable": true,
    "editable": true
   },
   "source": [
    "Next a function to compute the inner summation\n",
    "\n",
    "\\begin{equation*}\n",
    "\\sum_{\\substack{\n",
    "k=j-m \\\\\n",
    "0\\leq k\\leq n-m\n",
    "}}^{j}\\delta_{m}^{|j-k|}N_{i,k}^{n,m}\n",
    "\\end{equation*}\n",
    "\n",
    "This is done with Python's builtin `sum` function sums the results of a generator. The bounds of $k$ are given by \n",
    "\n",
    "\\begin{equation*}\n",
    "\\max{(0,  j-m)} \\leq k \\leq \\min{(j,  n-m-1)}\n",
    "\\end{equation*}\n",
    "\n"
   ]
  },
  {
   "cell_type": "code",
   "execution_count": 6,
   "metadata": {
    "collapsed": true,
    "deletable": true,
    "editable": true
   },
   "outputs": [],
   "source": [
    "def delta(k, m):\n",
    "    return (-1)**(m-k)*binom(m, k)\n",
    "\n",
    "\n",
    "def inner_sum(i, j, n, m):\n",
    "    return sum(delta(abs(j-k), m)*calc_n(i, k, n, m)\n",
    "               for k in range(max(0, j-m), min(j, n-m)+1))"
   ]
  },
  {
   "cell_type": "markdown",
   "metadata": {
    "deletable": true,
    "editable": true
   },
   "source": [
    "Finally, a function to construct the full matrix\n",
    "\n",
    "\\begin{equation*}\n",
    "\\sum_{j \\in D}\\left(\\sum_{\\substack{\n",
    "k=j-m \\\\\n",
    "0\\leq k\\leq n-m\n",
    "}}^{j}\\delta_{m}^{|j-k|}N_{i,k}^{n,m}\\right)\\mathbf{P}_{j}\n",
    "\\end{equation*}\n",
    "\n",
    "This function assumes that only $\\mathbf{P}_{0}$ and $\\mathbf{P}_{n}$ are known. Limits of $j$ in this equation become $1\\leq j \\leq n-2$"
   ]
  },
  {
   "cell_type": "code",
   "execution_count": null,
   "metadata": {
    "collapsed": true,
    "deletable": true,
    "editable": true
   },
   "outputs": [],
   "source": [
    "def construct_energy_min_matrix(n, m):\n",
    "    n_matrix = np.zeros((n-1, n-1))\n",
    "    for i in range(1, n-1):\n",
    "        for j in range(1, n-1):\n",
    "            n_matrix[i-1][j-1] = inner_sum(i, j, n, m)\n",
    "    return n_matrix"
   ]
  },
  {
   "cell_type": "code",
   "execution_count": null,
   "metadata": {
    "collapsed": false,
    "deletable": true,
    "editable": true
   },
   "outputs": [],
   "source": [
    "construct_energy_min_matrix(4, 3)"
   ]
  },
  {
   "cell_type": "markdown",
   "metadata": {
    "collapsed": true,
    "deletable": true,
    "editable": true
   },
   "source": [
    "<h2><center>Conditioning of the Matrix</center></h2>\n",
    "\n",
    "Here is an investigation into the conditioning of matrices generated for varying degrees of energy and size"
   ]
  },
  {
   "cell_type": "code",
   "execution_count": 55,
   "metadata": {
    "collapsed": false,
    "deletable": true,
    "editable": true
   },
   "outputs": [
    {
     "data": {
      "image/png": "[encoded data removed]",
      "text/plain": [
       "<matplotlib.figure.Figure at 0x1c938f60>"
      ]
     },
     "metadata": {},
     "output_type": "display_data"
    }
   ],
   "source": [
    "import matplotlib.pyplot as plt\n",
    "\n",
    "ns = range(4, 20)\n",
    "m1 = [np.linalg.cond(construct_energy_min_matrix(n, 1)) for n in ns]\n",
    "plt.plot(ns, m1)\n",
    "plt.grid(b=True, which='major', color='k', linestyle='-', alpha=0.5)\n",
    "plt.grid(b=True, which='minor', color='r', linestyle='-', alpha=0.05)\n",
    "plt.minorticks_on()\n",
    "plt.xlabel('n')\n",
    "plt.ylabel('condition')\n",
    "plt.title('Conditioning of energy-minimizing matrix')\n",
    "plt.show()\n"
   ]
  },
  {
   "cell_type": "markdown",
   "metadata": {
    "collapsed": true,
    "deletable": true,
    "editable": true
   },
   "source": [
    "This is clearly poorly conditioned. To investigate a little further, we'll make a semilogy plot of the data for $m=1,2,3$"
   ]
  },
  {
   "cell_type": "code",
   "execution_count": 72,
   "metadata": {
    "collapsed": false,
    "deletable": true,
    "editable": true
   },
   "outputs": [
    {
     "data": {
      "image/png": "[encoded data removed]",
      "text/plain": [
       "<matplotlib.figure.Figure at 0x1b5a01d0>"
      ]
     },
     "metadata": {},
     "output_type": "display_data"
    }
   ],
   "source": [
    "m2 = [np.linalg.cond(construct_energy_min_matrix(n, 2)) for n in ns]\n",
    "m3 = [np.linalg.cond(construct_energy_min_matrix(n, 3)) for n in ns]\n",
    "plt.semilogy(ns, m1, '.')\n",
    "plt.semilogy(ns, m2, '.')\n",
    "plt.semilogy(ns, m3, '.')\n",
    "plt.grid(b=True, which='major', color='k', linestyle='-', alpha=0.5)\n",
    "plt.grid(b=True, which='minor', color='r', linestyle='-', alpha=0.075)\n",
    "plt.minorticks_on()\n",
    "plt.xlabel('n')\n",
    "plt.ylabel('condition')\n",
    "plt.title('Conditioning of energy-minimizing matrix')\n",
    "plt.legend(['$m=1$', '$m=2$', '$m=3$'], loc='lower right')\n",
    "plt.show()"
   ]
  }
 ],
 "metadata": {
  "kernelspec": {
   "display_name": "Python 2",
   "language": "python",
   "name": "python2"
  },
  "language_info": {
   "codemirror_mode": {
    "name": "ipython",
    "version": 2
   },
   "file_extension": ".py",
   "mimetype": "text/x-python",
   "name": "python",
   "nbconvert_exporter": "python",
   "pygments_lexer": "ipython2",
   "version": "2.7.13"
  }
 },
 "nbformat": 4,
 "nbformat_minor": 2
}
